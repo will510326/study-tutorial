{
 "cells": [
  {
   "cell_type": "markdown",
   "id": "1ee1210a",
   "metadata": {},
   "source": [
    "### 引入bottle"
   ]
  },
  {
   "cell_type": "code",
   "execution_count": 1,
   "id": "43d4d490",
   "metadata": {},
   "outputs": [],
   "source": [
    "from bottle import route, run, Bottle, template"
   ]
  },
  {
   "cell_type": "markdown",
   "id": "9a057407",
   "metadata": {},
   "source": [
    "### Hello World\n",
    "- route ==> 裝飾器為url地址綁訂一個代碼\n",
    "- run ==> 啟動內置的開發竟用的服務器"
   ]
  },
  {
   "cell_type": "markdown",
   "id": "7cd6103c",
   "metadata": {},
   "source": [
    "@route('/hello') # 網址名稱\n",
    "def hello():\n",
    "    return \"Hello World!\" # 網址呈現出的模樣\n",
    "\n",
    "run(host='localhost', port=8080, debug=True)"
   ]
  },
  {
   "cell_type": "markdown",
   "id": "0929b62c",
   "metadata": {},
   "source": [
    "### 默認應用"
   ]
  },
  {
   "cell_type": "markdown",
   "id": "39a4fb90",
   "metadata": {},
   "source": [
    "from bottle import Bottle, run\n",
    "\n",
    "app = Bottle()\n",
    "\n",
    "@app.route('/hello')\n",
    "def hello():\n",
    "    return \"Hello World!\"\n",
    "\n",
    "run(app, host='localhost', port=8080)"
   ]
  },
  {
   "cell_type": "markdown",
   "id": "cb663588",
   "metadata": {},
   "source": [
    "### 請求路由\n",
    "- 需from bottle import template"
   ]
  },
  {
   "cell_type": "markdown",
   "id": "a4f46ee2",
   "metadata": {},
   "source": [
    "@route('/')\n",
    "@route('/hello/<name>')\n",
    "def greet(name='Stranger'):\n",
    "    return template('Hello {{name}}, how are you?', name=name)\n",
    "run(host='localhost', port=8080, debug=True)"
   ]
  },
  {
   "cell_type": "markdown",
   "id": "7ae8ce04",
   "metadata": {},
   "source": [
    "### 動態路由\n",
    "- 可以同時匹配不只一個URL地址\n",
    "- 每一個將覆蓋URL的一部分作為關鍵字參數，用於請求的回掉函數，可以使用他們輕鬆實現基於RESTful"
   ]
  },
  {
   "cell_type": "markdown",
   "id": "2538e7d9",
   "metadata": {},
   "source": [
    "@route('/wiki/<pagename>')            # matches /wiki/Learning_Python\n",
    "def show_wiki_page(pagename):\n",
    "    return template('Please use wiki can find many {{pagename}} for you',pagename = pagename)\n",
    "\n",
    "@route('/<action>/<user>')            # matches /follow/defnull\n",
    "def user_api(action, user):\n",
    "    return template('Hello {{action}} , can you run {{user}}', action=action, user=user)\n",
    "run(host='localhost', port=8080, debug=True)"
   ]
  },
  {
   "cell_type": "markdown",
   "id": "ed0bb16a",
   "metadata": {},
   "source": [
    "### 過濾器filter\n",
    "- <name:filter>\n",
    "- <name:filter:config>"
   ]
  },
  {
   "cell_type": "markdown",
   "id": "8a02270a",
   "metadata": {},
   "source": [
    "@route('/object/<id:int>')\n",
    "def callback(id):\n",
    "    assert isinstance(id, int)\n",
    "\n",
    "@route('/show/<name:re:[a-z]+>')\n",
    "def callback(name):\n",
    "    assert name.isalpha()\n",
    "\n",
    "@route('/static/<path:path>')\n",
    "def callback(path):\n",
    "    return static_file(path, ...)\n",
    "run(host='localhost', port=8080, debug=True)"
   ]
  },
  {
   "cell_type": "markdown",
   "id": "29d2c715",
   "metadata": {},
   "source": [
    "### HTTP請求方式\n",
    "- 所有的routes路由都默認使用GET方法，這些路由只能匹配GET請求\n",
    "- 如果要處理其他的請求如 POST, PUT, DELETE 或者 PATCH, 給route() 增加一个 method 關鍵字參數"
   ]
  },
  {
   "cell_type": "markdown",
   "id": "1762e806",
   "metadata": {},
   "source": [
    "from bottle import get, post, request # or route\n",
    "\n",
    "@get('/login') # or @route('/login')\n",
    "def login():\n",
    "    return '''\n",
    "        <form action=\"/login\" method=\"post\">\n",
    "            Username: <input name=\"username\" type=\"text\" />\n",
    "            Password: <input name=\"password\" type=\"password\" />\n",
    "            <input value=\"Login\" type=\"submit\" />\n",
    "            <input value=\"clear\" type=\"reset\" />\n",
    "        </form>\n",
    "    '''\n",
    "@post('/login') # or @route('/login', method='POST')\n",
    "def do_login():\n",
    "    User='Wayne'\n",
    "    _pass='123456'\n",
    "    username = request.forms.get('username')\n",
    "    password = request.forms.get('password')\n",
    "    if User == username and _pass == password:\n",
    "        return \"<p>Your login information was correct.</p>\"\n",
    "    else:\n",
    "        return \"<p>Login failed.</p>\"\n",
    "run(host='localhost', port=8080, debug=True)"
   ]
  },
  {
   "cell_type": "markdown",
   "id": "01fb4353",
   "metadata": {},
   "source": [
    "### 路由靜態文件\n",
    "- Bottle並不為CSS，圖片等自動提供服務，需要添加路由"
   ]
  }
 ],
 "metadata": {
  "kernelspec": {
   "display_name": "Python 3 (ipykernel)",
   "language": "python",
   "name": "python3"
  },
  "language_info": {
   "codemirror_mode": {
    "name": "ipython",
    "version": 3
   },
   "file_extension": ".py",
   "mimetype": "text/x-python",
   "name": "python",
   "nbconvert_exporter": "python",
   "pygments_lexer": "ipython3",
   "version": "3.9.7"
  }
 },
 "nbformat": 4,
 "nbformat_minor": 5
}
